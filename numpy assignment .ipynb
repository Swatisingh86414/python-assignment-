{
 "cells": [
  {
   "cell_type": "markdown",
   "id": "24393c08-464a-4b95-acc3-1e526a141dee",
   "metadata": {},
   "source": [
    "--1 Create a numpy array with numpy.array module and with a data type integer and float."
   ]
  },
  {
   "cell_type": "code",
   "execution_count": 1,
   "id": "10fdf7e1-9e92-4d11-b246-5a4b0e76ca20",
   "metadata": {},
   "outputs": [],
   "source": [
    "import numpy as np"
   ]
  },
  {
   "cell_type": "code",
   "execution_count": 3,
   "id": "5c4b1218-a77e-41af-8319-ee5a5f0e8fa2",
   "metadata": {},
   "outputs": [],
   "source": [
    "a=np.array([1,2,3,4,5,6,7,8,9,10],dtype=\"int\") "
   ]
  },
  {
   "cell_type": "code",
   "execution_count": 5,
   "id": "9cf71937-ff07-4a52-96a6-7952c2317f7e",
   "metadata": {},
   "outputs": [
    {
     "name": "stdout",
     "output_type": "stream",
     "text": [
      "[ 1  2  3  4  5  6  7  8  9 10]\n"
     ]
    }
   ],
   "source": [
    "print (a)"
   ]
  },
  {
   "cell_type": "code",
   "execution_count": 7,
   "id": "382bf494-d212-4a5c-9237-7647f331dd28",
   "metadata": {},
   "outputs": [
    {
     "name": "stdout",
     "output_type": "stream",
     "text": [
      "int32\n"
     ]
    }
   ],
   "source": [
    "print(a.dtype)"
   ]
  },
  {
   "cell_type": "code",
   "execution_count": 9,
   "id": "cd52a2fe-d52e-48d6-a129-9862c18724f7",
   "metadata": {},
   "outputs": [],
   "source": [
    "b=np.array([1,2,3,4,5,6,7,8,9,10],dtype=\"float\")"
   ]
  },
  {
   "cell_type": "code",
   "execution_count": 11,
   "id": "2433bb22-38d5-4f42-972a-a358917f85d1",
   "metadata": {},
   "outputs": [
    {
     "name": "stdout",
     "output_type": "stream",
     "text": [
      "[ 1.  2.  3.  4.  5.  6.  7.  8.  9. 10.]\n"
     ]
    }
   ],
   "source": [
    "print(b)"
   ]
  },
  {
   "cell_type": "code",
   "execution_count": 13,
   "id": "0caa550e-f33d-4f4b-a132-a93f00297c6e",
   "metadata": {},
   "outputs": [
    {
     "name": "stdout",
     "output_type": "stream",
     "text": [
      "float64\n"
     ]
    }
   ],
   "source": [
    "print(b.dtype)"
   ]
  },
  {
   "cell_type": "code",
   "execution_count": null,
   "id": "bbb60811-4427-433a-8236-7da04e39d28d",
   "metadata": {},
   "outputs": [],
   "source": [
    "---2 Create numpy arrays that have zero, one, two, three, Four dimensions respectively.\n",
    "Also, print the shape and dimensions of the numpy arrays created above."
   ]
  },
  {
   "cell_type": "code",
   "execution_count": 15,
   "id": "8c6acbad-421e-499e-8be8-6287721c592d",
   "metadata": {},
   "outputs": [],
   "source": [
    "zero_dim=np.array(50)"
   ]
  },
  {
   "cell_type": "code",
   "execution_count": 17,
   "id": "ff3e71f5-7e03-4f70-b1aa-87b2e961bc6d",
   "metadata": {},
   "outputs": [
    {
     "name": "stdout",
     "output_type": "stream",
     "text": [
      "50\n"
     ]
    }
   ],
   "source": [
    "print(zero_dim)"
   ]
  },
  {
   "cell_type": "code",
   "execution_count": 19,
   "id": "a65fd45a-2ad4-4483-be71-e7dfaebed4fc",
   "metadata": {},
   "outputs": [
    {
     "name": "stdout",
     "output_type": "stream",
     "text": [
      "()\n"
     ]
    }
   ],
   "source": [
    "print(zero_dim.shape)"
   ]
  },
  {
   "cell_type": "code",
   "execution_count": 21,
   "id": "0cb741a2-6d41-4b3a-816e-3af469b29e39",
   "metadata": {},
   "outputs": [
    {
     "name": "stdout",
     "output_type": "stream",
     "text": [
      "0\n"
     ]
    }
   ],
   "source": [
    "print(zero_dim.ndim)"
   ]
  },
  {
   "cell_type": "code",
   "execution_count": 23,
   "id": "80875d8b-994c-40bb-a417-b0a8c08924fa",
   "metadata": {},
   "outputs": [],
   "source": [
    "one_dim=np.array([1,2,3,4,5])"
   ]
  },
  {
   "cell_type": "code",
   "execution_count": 25,
   "id": "71e9403f-42c4-49bf-8f53-9398233726c0",
   "metadata": {},
   "outputs": [
    {
     "name": "stdout",
     "output_type": "stream",
     "text": [
      "[1 2 3 4 5]\n"
     ]
    }
   ],
   "source": [
    "print(one_dim)"
   ]
  },
  {
   "cell_type": "code",
   "execution_count": 29,
   "id": "1a3df7a0-25c2-4636-af93-cad936ec2022",
   "metadata": {},
   "outputs": [
    {
     "name": "stdout",
     "output_type": "stream",
     "text": [
      "(5,)\n"
     ]
    }
   ],
   "source": [
    "print(one_dim.shape)"
   ]
  },
  {
   "cell_type": "code",
   "execution_count": 31,
   "id": "8f390edf-cf68-4c76-94d1-baad78b29d51",
   "metadata": {},
   "outputs": [
    {
     "name": "stdout",
     "output_type": "stream",
     "text": [
      "1\n"
     ]
    }
   ],
   "source": [
    "print(one_dim.ndim)"
   ]
  },
  {
   "cell_type": "code",
   "execution_count": 33,
   "id": "36e63d26-032f-4831-a8cd-44b2ce096395",
   "metadata": {},
   "outputs": [],
   "source": [
    "two_dim=np.array([[1,2,3],[4,5,6],[7,8,9]])"
   ]
  },
  {
   "cell_type": "code",
   "execution_count": 35,
   "id": "6e89164b-bccd-4ece-85eb-38bfacda30fe",
   "metadata": {},
   "outputs": [
    {
     "name": "stdout",
     "output_type": "stream",
     "text": [
      "[[1 2 3]\n",
      " [4 5 6]\n",
      " [7 8 9]]\n"
     ]
    }
   ],
   "source": [
    "print(two_dim)"
   ]
  },
  {
   "cell_type": "code",
   "execution_count": 37,
   "id": "fc558779-5907-45ba-9f61-2c83ec007c08",
   "metadata": {},
   "outputs": [
    {
     "name": "stdout",
     "output_type": "stream",
     "text": [
      "(3, 3)\n"
     ]
    }
   ],
   "source": [
    "print(two_dim.shape)"
   ]
  },
  {
   "cell_type": "code",
   "execution_count": 39,
   "id": "7c501d92-3858-47f6-8226-637c691feac0",
   "metadata": {},
   "outputs": [
    {
     "name": "stdout",
     "output_type": "stream",
     "text": [
      "2\n"
     ]
    }
   ],
   "source": [
    "print(two_dim.ndim)"
   ]
  },
  {
   "cell_type": "code",
   "execution_count": 41,
   "id": "535659d7-7fb2-46a0-81d7-4861edff0bbd",
   "metadata": {},
   "outputs": [],
   "source": [
    "three_dim=np.array([[[1,2,3],[4,5,6]],[[7,8,9],[10,11,12]],[[13,14,15],[16,17,18]]])"
   ]
  },
  {
   "cell_type": "code",
   "execution_count": 43,
   "id": "fd32d928-85ea-497a-9c3e-887a73510b60",
   "metadata": {},
   "outputs": [
    {
     "name": "stdout",
     "output_type": "stream",
     "text": [
      "[[[ 1  2  3]\n",
      "  [ 4  5  6]]\n",
      "\n",
      " [[ 7  8  9]\n",
      "  [10 11 12]]\n",
      "\n",
      " [[13 14 15]\n",
      "  [16 17 18]]]\n"
     ]
    }
   ],
   "source": [
    "print(three_dim)"
   ]
  },
  {
   "cell_type": "code",
   "execution_count": 45,
   "id": "89167ea4-2db1-4f07-b443-4c00640138d0",
   "metadata": {},
   "outputs": [
    {
     "name": "stdout",
     "output_type": "stream",
     "text": [
      "(3, 2, 3)\n"
     ]
    }
   ],
   "source": [
    "print(three_dim.shape)"
   ]
  },
  {
   "cell_type": "code",
   "execution_count": 47,
   "id": "3befd0c9-c342-46d8-bb8d-3f1518037d0a",
   "metadata": {},
   "outputs": [
    {
     "name": "stdout",
     "output_type": "stream",
     "text": [
      "3\n"
     ]
    }
   ],
   "source": [
    "print(three_dim.ndim)"
   ]
  },
  {
   "cell_type": "code",
   "execution_count": 51,
   "id": "a3c704d6-f618-49ab-a7f7-bbfc6719adb9",
   "metadata": {},
   "outputs": [],
   "source": [
    "four_dim=np.array([[[[1,2,3],[4,5,6]],[[7,8,9],[10,11,12]]]])"
   ]
  },
  {
   "cell_type": "code",
   "execution_count": 53,
   "id": "5f419ba3-f6b7-4e7c-b6ab-7e592616f953",
   "metadata": {},
   "outputs": [
    {
     "name": "stdout",
     "output_type": "stream",
     "text": [
      "[[[[ 1  2  3]\n",
      "   [ 4  5  6]]\n",
      "\n",
      "  [[ 7  8  9]\n",
      "   [10 11 12]]]]\n"
     ]
    }
   ],
   "source": [
    "print(four_dim)"
   ]
  },
  {
   "cell_type": "code",
   "execution_count": 57,
   "id": "fcce7775-71ce-4ca0-a28f-e72dbb2fb867",
   "metadata": {},
   "outputs": [
    {
     "name": "stdout",
     "output_type": "stream",
     "text": [
      "(1, 2, 2, 3)\n"
     ]
    }
   ],
   "source": [
    "print(four_dim.shape)"
   ]
  },
  {
   "cell_type": "code",
   "execution_count": 59,
   "id": "7329a27d-7542-4e2b-ae7a-e51b9d007abe",
   "metadata": {},
   "outputs": [
    {
     "name": "stdout",
     "output_type": "stream",
     "text": [
      "4\n"
     ]
    }
   ],
   "source": [
    "print(four_dim.ndim)"
   ]
  },
  {
   "cell_type": "code",
   "execution_count": null,
   "id": "c0ddf0b8-fd14-4c17-8104-062f31ff26e8",
   "metadata": {},
   "outputs": [],
   "source": [
    "--3 Create a 2x2, 3x3, and 4x4 identity matrix using numpy"
   ]
  },
  {
   "cell_type": "code",
   "execution_count": 61,
   "id": "1b141050-7f65-4ec0-b92f-526031cb3fd3",
   "metadata": {},
   "outputs": [],
   "source": [
    "two_identity=np.identity(2)"
   ]
  },
  {
   "cell_type": "code",
   "execution_count": 63,
   "id": "10408ac8-f86f-44c8-ae5f-c98a04b8cc36",
   "metadata": {},
   "outputs": [
    {
     "name": "stdout",
     "output_type": "stream",
     "text": [
      "[[1. 0.]\n",
      " [0. 1.]]\n"
     ]
    }
   ],
   "source": [
    "print(two_identity)"
   ]
  },
  {
   "cell_type": "code",
   "execution_count": 67,
   "id": "eb53dcaf-43d8-4de6-ac7a-0c8461938142",
   "metadata": {},
   "outputs": [],
   "source": [
    "three_identity=np.identity(3)"
   ]
  },
  {
   "cell_type": "code",
   "execution_count": 69,
   "id": "56dd31f9-88f0-4b3c-8b72-788f2c4fa163",
   "metadata": {},
   "outputs": [
    {
     "name": "stdout",
     "output_type": "stream",
     "text": [
      "[[1. 0. 0.]\n",
      " [0. 1. 0.]\n",
      " [0. 0. 1.]]\n"
     ]
    }
   ],
   "source": [
    "print(three_identity)"
   ]
  },
  {
   "cell_type": "code",
   "execution_count": 71,
   "id": "cd1d227b-84f0-4690-af99-318ba1efbbb3",
   "metadata": {},
   "outputs": [],
   "source": [
    "four_identity=np.identity(4)"
   ]
  },
  {
   "cell_type": "code",
   "execution_count": 73,
   "id": "6352e40f-5a88-4867-837b-50fd20804f05",
   "metadata": {},
   "outputs": [
    {
     "name": "stdout",
     "output_type": "stream",
     "text": [
      "[[1. 0. 0. 0.]\n",
      " [0. 1. 0. 0.]\n",
      " [0. 0. 1. 0.]\n",
      " [0. 0. 0. 1.]]\n"
     ]
    }
   ],
   "source": [
    "print(four_identity)"
   ]
  },
  {
   "cell_type": "code",
   "execution_count": null,
   "id": "f9e1f5ed-43d3-4643-be51-e63bb654f09b",
   "metadata": {},
   "outputs": [],
   "source": [
    "--4 Create a numpy array with shape 2x5 that has all the elements as zero."
   ]
  },
  {
   "cell_type": "code",
   "execution_count": 75,
   "id": "b1ed566a-ccb6-4475-9ef7-ac08fe45b31c",
   "metadata": {},
   "outputs": [],
   "source": [
    "c=np.zeros((2,5))"
   ]
  },
  {
   "cell_type": "code",
   "execution_count": 77,
   "id": "32ef68bc-f335-45e6-b929-634fb940fedc",
   "metadata": {},
   "outputs": [
    {
     "name": "stdout",
     "output_type": "stream",
     "text": [
      "[[0. 0. 0. 0. 0.]\n",
      " [0. 0. 0. 0. 0.]]\n"
     ]
    }
   ],
   "source": [
    "print(c)"
   ]
  },
  {
   "cell_type": "code",
   "execution_count": 79,
   "id": "ad04be73-b9f5-4386-b62b-f76c835cb17e",
   "metadata": {},
   "outputs": [
    {
     "name": "stdout",
     "output_type": "stream",
     "text": [
      "(2, 5)\n"
     ]
    }
   ],
   "source": [
    "print(c.shape)"
   ]
  },
  {
   "cell_type": "code",
   "execution_count": 81,
   "id": "4832b0c7-ce71-49df-a9c8-2e9a75be1c03",
   "metadata": {},
   "outputs": [],
   "source": [
    "d=np.eye(3)"
   ]
  },
  {
   "cell_type": "code",
   "execution_count": 83,
   "id": "319cf566-083a-43e5-90bb-f03976bcd21c",
   "metadata": {},
   "outputs": [
    {
     "name": "stdout",
     "output_type": "stream",
     "text": [
      "[[1. 0. 0.]\n",
      " [0. 1. 0.]\n",
      " [0. 0. 1.]]\n"
     ]
    }
   ],
   "source": [
    "print(d)"
   ]
  },
  {
   "cell_type": "code",
   "execution_count": 85,
   "id": "a2fcb7b6-0152-4a5d-9078-3cc2dd6751d9",
   "metadata": {},
   "outputs": [],
   "source": [
    "e=np.fliplr(d)"
   ]
  },
  {
   "cell_type": "code",
   "execution_count": 87,
   "id": "d734b565-b09e-4d73-852f-946c82d4bc93",
   "metadata": {},
   "outputs": [
    {
     "name": "stdout",
     "output_type": "stream",
     "text": [
      "[[0. 0. 1.]\n",
      " [0. 1. 0.]\n",
      " [1. 0. 0.]]\n"
     ]
    }
   ],
   "source": [
    "print(e)"
   ]
  },
  {
   "cell_type": "code",
   "execution_count": null,
   "id": "6a9d97db-6330-4d86-8377-006e25d0631d",
   "metadata": {},
   "outputs": [],
   "source": [
    "--5 Create a numpy array that has the shape 3x5 and all the elements are 5."
   ]
  },
  {
   "cell_type": "code",
   "execution_count": 89,
   "id": "b3d09ba7-5d76-4d28-a57a-6bbf23f9ee38",
   "metadata": {},
   "outputs": [],
   "source": [
    "f=np.full((3,5),5)"
   ]
  },
  {
   "cell_type": "code",
   "execution_count": 91,
   "id": "46045293-dd71-45c6-8973-2b9476ab5de9",
   "metadata": {},
   "outputs": [
    {
     "name": "stdout",
     "output_type": "stream",
     "text": [
      "[[5 5 5 5 5]\n",
      " [5 5 5 5 5]\n",
      " [5 5 5 5 5]]\n"
     ]
    }
   ],
   "source": [
    "print(f)"
   ]
  },
  {
   "cell_type": "code",
   "execution_count": 93,
   "id": "4e189b70-12dc-4781-af5c-266004cae673",
   "metadata": {},
   "outputs": [],
   "source": [
    "g=np.ones((3,5))"
   ]
  },
  {
   "cell_type": "code",
   "execution_count": 95,
   "id": "18ce96af-fb13-4320-a014-9ee0ed6a30d1",
   "metadata": {},
   "outputs": [
    {
     "name": "stdout",
     "output_type": "stream",
     "text": [
      "[[1. 1. 1. 1. 1.]\n",
      " [1. 1. 1. 1. 1.]\n",
      " [1. 1. 1. 1. 1.]]\n"
     ]
    }
   ],
   "source": [
    "print(g)"
   ]
  },
  {
   "cell_type": "code",
   "execution_count": 97,
   "id": "af527448-d655-45c7-b8d2-b09baea7098c",
   "metadata": {},
   "outputs": [],
   "source": [
    "g=np.ones((3,5))*5"
   ]
  },
  {
   "cell_type": "code",
   "execution_count": 99,
   "id": "9739d9c2-af67-4abd-8730-fa3ce0bf9773",
   "metadata": {},
   "outputs": [
    {
     "name": "stdout",
     "output_type": "stream",
     "text": [
      "[[5. 5. 5. 5. 5.]\n",
      " [5. 5. 5. 5. 5.]\n",
      " [5. 5. 5. 5. 5.]]\n"
     ]
    }
   ],
   "source": [
    "print(g)"
   ]
  },
  {
   "cell_type": "code",
   "execution_count": null,
   "id": "cfd28f59-7284-45a3-a5b6-ef21074b30c8",
   "metadata": {},
   "outputs": [],
   "source": [
    "--6 Create a numpy array with random integers in the range 0-100, and the sample size should be 25.\n"
   ]
  },
  {
   "cell_type": "code",
   "execution_count": 101,
   "id": "d8869c24-0a0f-45b3-89dc-4178f3a46aa3",
   "metadata": {},
   "outputs": [],
   "source": [
    "w=np.random.randint(0,100,25)"
   ]
  },
  {
   "cell_type": "code",
   "execution_count": 103,
   "id": "3e3ba94a-258d-4f3d-94d8-a0c4dd9b7c47",
   "metadata": {},
   "outputs": [
    {
     "name": "stdout",
     "output_type": "stream",
     "text": [
      "[16 34 23 97 76 80 58 19 25 97 51 88 11 28 76 41  6 48 60 65 77 22 41 10\n",
      " 40]\n"
     ]
    }
   ],
   "source": [
    "print(w)"
   ]
  },
  {
   "cell_type": "code",
   "execution_count": 105,
   "id": "206176dd-ae0d-4b06-a55f-71fbc93619e0",
   "metadata": {},
   "outputs": [
    {
     "name": "stdout",
     "output_type": "stream",
     "text": [
      "(25,)\n"
     ]
    }
   ],
   "source": [
    "print(w.shape)"
   ]
  },
  {
   "cell_type": "code",
   "execution_count": null,
   "id": "7f6ed2a6-d156-4036-b2f3-479011fa647a",
   "metadata": {},
   "outputs": [],
   "source": [
    "--7 Create a numpy array with a shape 3x3 that has all elements as 1."
   ]
  },
  {
   "cell_type": "code",
   "execution_count": 107,
   "id": "7a2fb770-b608-4a71-ba8a-69e03ff089f9",
   "metadata": {},
   "outputs": [],
   "source": [
    "h=np.ones((3,3))"
   ]
  },
  {
   "cell_type": "code",
   "execution_count": 109,
   "id": "b7a0216d-0e47-4c45-8380-5ece5f6eb76e",
   "metadata": {},
   "outputs": [
    {
     "name": "stdout",
     "output_type": "stream",
     "text": [
      "[[1. 1. 1.]\n",
      " [1. 1. 1.]\n",
      " [1. 1. 1.]]\n"
     ]
    }
   ],
   "source": [
    "print(h)"
   ]
  },
  {
   "cell_type": "code",
   "execution_count": 111,
   "id": "3d5052c8-04fe-415a-a6cd-2f03f05844ea",
   "metadata": {},
   "outputs": [
    {
     "name": "stdout",
     "output_type": "stream",
     "text": [
      "(3, 3)\n"
     ]
    }
   ],
   "source": [
    "print(h.shape)"
   ]
  },
  {
   "cell_type": "code",
   "execution_count": null,
   "id": "5a68f96a-554d-406b-9611-43d1bcf4c751",
   "metadata": {},
   "outputs": [],
   "source": [
    "--8 Create a numpy array in the shape 2x3 with random integers in the range 0-100. \n",
    "Reshape the array in the shape 3x2 and print the updated shape of the resultant array."
   ]
  },
  {
   "cell_type": "code",
   "execution_count": 113,
   "id": "33b10184-656c-429d-b4f2-d8d22fe2618b",
   "metadata": {},
   "outputs": [],
   "source": [
    "mainarray=np.random.randint(0,100,size=(2,3))"
   ]
  },
  {
   "cell_type": "code",
   "execution_count": 115,
   "id": "de26c41e-a01a-463e-8b69-c4d63a2cbcdd",
   "metadata": {},
   "outputs": [
    {
     "name": "stdout",
     "output_type": "stream",
     "text": [
      "[[87 23 98]\n",
      " [ 5 64 96]]\n"
     ]
    }
   ],
   "source": [
    "print(mainarray)"
   ]
  },
  {
   "cell_type": "code",
   "execution_count": 117,
   "id": "0fcf6f77-cd08-4377-a032-96861e793687",
   "metadata": {},
   "outputs": [],
   "source": [
    "mainarray.resize(3,2)"
   ]
  },
  {
   "cell_type": "code",
   "execution_count": 119,
   "id": "8aa5d62b-9d85-4068-b3d8-d00fdffd4c9c",
   "metadata": {},
   "outputs": [
    {
     "data": {
      "text/plain": [
       "array([[87, 23],\n",
       "       [98,  5],\n",
       "       [64, 96]])"
      ]
     },
     "execution_count": 119,
     "metadata": {},
     "output_type": "execute_result"
    }
   ],
   "source": [
    "mainarray"
   ]
  },
  {
   "cell_type": "code",
   "execution_count": 121,
   "id": "401aa343-b4b2-40c5-b422-76fb06f07911",
   "metadata": {},
   "outputs": [
    {
     "name": "stdout",
     "output_type": "stream",
     "text": [
      "(3, 2)\n"
     ]
    }
   ],
   "source": [
    "print(mainarray.shape)"
   ]
  },
  {
   "cell_type": "code",
   "execution_count": null,
   "id": "405a14d1-71f7-4206-8b55-9b5268397cf9",
   "metadata": {},
   "outputs": [],
   "source": [
    "--9 Create a random array, with the range 0-1000, with a size 50 and\n",
    "step 2. Perform the following operations on the same.\n",
    "\n",
    "a. Print the first ten elements of the array.\n",
    "\n",
    "b. Print the last ten elements of the array\n",
    "\n",
    "c. Print the elements from the indexes 10-25\n",
    "\n",
    "d. Print the element at the index 22\n",
    "\n",
    "e. Print the array using negative indexing.\n",
    "\n",
    "f. Print the last ten elements of the array, using negative indexing"
   ]
  },
  {
   "cell_type": "code",
   "execution_count": 123,
   "id": "2eca51f6-3c69-4574-a615-748584fd6a93",
   "metadata": {},
   "outputs": [],
   "source": [
    "arr=np.random.randint(0,1000,size=50)"
   ]
  },
  {
   "cell_type": "code",
   "execution_count": 125,
   "id": "9a6fe73d-580e-4460-9e31-43dcdf944240",
   "metadata": {},
   "outputs": [
    {
     "name": "stdout",
     "output_type": "stream",
     "text": [
      "[630 688 494 562 604 771 614 744 103 908 404 193 141 310 587 953 490 494\n",
      "  86 861 523 959 413 206 930 400  92 867 619 637 636 663 270 670 985 634\n",
      " 746 843 959 339 948 817 188 525 507 766 831 981 383 271]\n"
     ]
    }
   ],
   "source": [
    "print(arr)"
   ]
  },
  {
   "cell_type": "code",
   "execution_count": 127,
   "id": "0a564def-c6af-4dea-8e27-88e3d6ede851",
   "metadata": {},
   "outputs": [
    {
     "data": {
      "text/plain": [
       "array([630, 688, 494, 562, 604, 771, 614, 744, 103, 908])"
      ]
     },
     "execution_count": 127,
     "metadata": {},
     "output_type": "execute_result"
    }
   ],
   "source": [
    "arr[:10]"
   ]
  },
  {
   "cell_type": "code",
   "execution_count": 129,
   "id": "3d35f3bd-975c-407e-a7f1-7694a3cfc925",
   "metadata": {},
   "outputs": [
    {
     "data": {
      "text/plain": [
       "array([948, 817, 188, 525, 507, 766, 831, 981, 383, 271])"
      ]
     },
     "execution_count": 129,
     "metadata": {},
     "output_type": "execute_result"
    }
   ],
   "source": [
    "arr[40:]"
   ]
  },
  {
   "cell_type": "code",
   "execution_count": 131,
   "id": "bcba23e3-b407-42cb-b53b-ef24a6bf2430",
   "metadata": {},
   "outputs": [
    {
     "data": {
      "text/plain": [
       "array([404, 193, 141, 310, 587, 953, 490, 494,  86, 861, 523, 959, 413,\n",
       "       206, 930, 400])"
      ]
     },
     "execution_count": 131,
     "metadata": {},
     "output_type": "execute_result"
    }
   ],
   "source": [
    "arr[10:26]"
   ]
  },
  {
   "cell_type": "code",
   "execution_count": 133,
   "id": "14e91579-ea7b-44a4-9450-a489a745b9dc",
   "metadata": {},
   "outputs": [
    {
     "data": {
      "text/plain": [
       "413"
      ]
     },
     "execution_count": 133,
     "metadata": {},
     "output_type": "execute_result"
    }
   ],
   "source": [
    "arr[22]"
   ]
  },
  {
   "cell_type": "code",
   "execution_count": 135,
   "id": "00ce11b4-bfb8-45ad-bb78-31dd66493517",
   "metadata": {},
   "outputs": [
    {
     "data": {
      "text/plain": [
       "array([948, 817, 188, 525, 507, 766, 831, 981, 383, 271])"
      ]
     },
     "execution_count": 135,
     "metadata": {},
     "output_type": "execute_result"
    }
   ],
   "source": [
    "arr[-10:]"
   ]
  },
  {
   "cell_type": "code",
   "execution_count": null,
   "id": "13496056-17cf-45a7-acfd-4ccfb62188f9",
   "metadata": {},
   "outputs": [],
   "source": [
    "--10 Given a numpy array that has values = [1,2,3,4,5].\n",
    "Perform the following operations.\n",
    "\n",
    "a. Insert the element 6 at the end of the array.\n",
    "\n",
    "b. Insert the element 10 at the beginning of the array.\n",
    "\n",
    "c. Insert the element 30, before 4.\n",
    "\n",
    "d. Update the element 5 as 50.\n",
    "\n",
    "e. Delete the element 50 in the updated array.\n",
    "\n",
    "f. Create a function to search for the element 30.\n",
    "\n",
    "g. Sort the array in ascending order."
   ]
  },
  {
   "cell_type": "code",
   "execution_count": 137,
   "id": "0a47e744-59ae-4d88-9314-5ddc7eb34b85",
   "metadata": {},
   "outputs": [],
   "source": [
    "z=np.array([1,2,3,4,5])"
   ]
  },
  {
   "cell_type": "code",
   "execution_count": 139,
   "id": "89f43575-4846-46d0-8354-03bd7316fffb",
   "metadata": {},
   "outputs": [
    {
     "data": {
      "text/plain": [
       "array([1, 2, 3, 4, 5])"
      ]
     },
     "execution_count": 139,
     "metadata": {},
     "output_type": "execute_result"
    }
   ],
   "source": [
    "z"
   ]
  },
  {
   "cell_type": "code",
   "execution_count": 143,
   "id": "1b778fa0-4929-47bc-9b6c-dfe8af546e10",
   "metadata": {},
   "outputs": [],
   "source": [
    "y=np.append(z,6)"
   ]
  },
  {
   "cell_type": "code",
   "execution_count": 145,
   "id": "eae65763-959d-4164-b8e6-f410beede38d",
   "metadata": {},
   "outputs": [
    {
     "data": {
      "text/plain": [
       "array([1, 2, 3, 4, 5, 6])"
      ]
     },
     "execution_count": 145,
     "metadata": {},
     "output_type": "execute_result"
    }
   ],
   "source": [
    "y"
   ]
  },
  {
   "cell_type": "code",
   "execution_count": 147,
   "id": "f2e5e5a7-54e7-4067-91c8-dae906f5147a",
   "metadata": {},
   "outputs": [],
   "source": [
    "x=np.insert(y,0,10)"
   ]
  },
  {
   "cell_type": "code",
   "execution_count": 149,
   "id": "d2612b1c-0c82-4840-b9cf-9862b759b620",
   "metadata": {},
   "outputs": [
    {
     "data": {
      "text/plain": [
       "array([10,  1,  2,  3,  4,  5,  6])"
      ]
     },
     "execution_count": 149,
     "metadata": {},
     "output_type": "execute_result"
    }
   ],
   "source": [
    "x"
   ]
  },
  {
   "cell_type": "code",
   "execution_count": 151,
   "id": "f26393c1-316c-4370-a5a0-3e55a5d22560",
   "metadata": {},
   "outputs": [],
   "source": [
    "u=np.insert(x,4,30)"
   ]
  },
  {
   "cell_type": "code",
   "execution_count": 153,
   "id": "6d1b0a64-da2f-4362-b733-387b97777a54",
   "metadata": {},
   "outputs": [
    {
     "data": {
      "text/plain": [
       "array([10,  1,  2,  3, 30,  4,  5,  6])"
      ]
     },
     "execution_count": 153,
     "metadata": {},
     "output_type": "execute_result"
    }
   ],
   "source": [
    "u"
   ]
  },
  {
   "cell_type": "code",
   "execution_count": 155,
   "id": "a9df09d2-e02e-4b72-b682-626fb117dd47",
   "metadata": {},
   "outputs": [],
   "source": [
    "u[-2]=50"
   ]
  },
  {
   "cell_type": "code",
   "execution_count": 157,
   "id": "a55d804c-8655-48e1-b1a8-b05df1f5898f",
   "metadata": {},
   "outputs": [
    {
     "data": {
      "text/plain": [
       "array([10,  1,  2,  3, 30,  4, 50,  6])"
      ]
     },
     "execution_count": 157,
     "metadata": {},
     "output_type": "execute_result"
    }
   ],
   "source": [
    "u"
   ]
  },
  {
   "cell_type": "code",
   "execution_count": 159,
   "id": "e0280875-49ae-4bd3-a4f0-f2424356e4cc",
   "metadata": {},
   "outputs": [],
   "source": [
    "v=np.delete(u,6)"
   ]
  },
  {
   "cell_type": "code",
   "execution_count": 161,
   "id": "747610da-6aad-4058-84c8-37121b731ebc",
   "metadata": {},
   "outputs": [
    {
     "data": {
      "text/plain": [
       "array([10,  1,  2,  3, 30,  4,  6])"
      ]
     },
     "execution_count": 161,
     "metadata": {},
     "output_type": "execute_result"
    }
   ],
   "source": [
    "v"
   ]
  },
  {
   "cell_type": "code",
   "execution_count": 163,
   "id": "9af9c4cc-1e54-4b2c-876a-ddde14ff5fea",
   "metadata": {},
   "outputs": [],
   "source": [
    "w=np.where(v==30)"
   ]
  },
  {
   "cell_type": "code",
   "execution_count": 165,
   "id": "f36c0044-462f-4acc-aba0-1ee32bbaf655",
   "metadata": {},
   "outputs": [
    {
     "data": {
      "text/plain": [
       "(array([4], dtype=int64),)"
      ]
     },
     "execution_count": 165,
     "metadata": {},
     "output_type": "execute_result"
    }
   ],
   "source": [
    "w"
   ]
  },
  {
   "cell_type": "code",
   "execution_count": 171,
   "id": "0f86d516-98e5-4a65-8917-a0387a6dda7e",
   "metadata": {},
   "outputs": [],
   "source": [
    "v.sort()"
   ]
  },
  {
   "cell_type": "code",
   "execution_count": 173,
   "id": "3b0b4c24-0cf5-46c1-a3b0-2e8ed795ae2a",
   "metadata": {},
   "outputs": [
    {
     "data": {
      "text/plain": [
       "array([ 1,  2,  3,  4,  6, 10, 30])"
      ]
     },
     "execution_count": 173,
     "metadata": {},
     "output_type": "execute_result"
    }
   ],
   "source": [
    "v"
   ]
  },
  {
   "cell_type": "code",
   "execution_count": 175,
   "id": "0a41ecef-9045-4ce7-91f6-c1cea101ac42",
   "metadata": {},
   "outputs": [],
   "source": [
    "k=np.sort(v)[::-1]"
   ]
  },
  {
   "cell_type": "code",
   "execution_count": 177,
   "id": "ccd0c41a-620a-46df-bac8-bb24527ba7ab",
   "metadata": {},
   "outputs": [
    {
     "data": {
      "text/plain": [
       "array([30, 10,  6,  4,  3,  2,  1])"
      ]
     },
     "execution_count": 177,
     "metadata": {},
     "output_type": "execute_result"
    }
   ],
   "source": [
    "k"
   ]
  },
  {
   "cell_type": "code",
   "execution_count": 179,
   "id": "6733e9ee-9e9b-43ac-918d-bced7f4f34ff",
   "metadata": {},
   "outputs": [],
   "source": [
    "k=np.where(k==30,3,k)"
   ]
  },
  {
   "cell_type": "code",
   "execution_count": 181,
   "id": "13970f7b-2ee9-4650-a308-95906140db9f",
   "metadata": {},
   "outputs": [
    {
     "data": {
      "text/plain": [
       "array([ 3, 10,  6,  4,  3,  2,  1])"
      ]
     },
     "execution_count": 181,
     "metadata": {},
     "output_type": "execute_result"
    }
   ],
   "source": [
    "k"
   ]
  },
  {
   "cell_type": "code",
   "execution_count": null,
   "id": "3e86631f-0159-4edb-af11-36644e2ca743",
   "metadata": {},
   "outputs": [],
   "source": []
  },
  {
   "cell_type": "code",
   "execution_count": null,
   "id": "c3316583-05b1-4814-abab-83581e0b2b62",
   "metadata": {},
   "outputs": [],
   "source": []
  },
  {
   "cell_type": "code",
   "execution_count": null,
   "id": "70ef35e7-e2b6-40e9-adbc-98306f92c3c1",
   "metadata": {},
   "outputs": [],
   "source": []
  },
  {
   "cell_type": "code",
   "execution_count": null,
   "id": "51206538-e220-47ca-9091-e7dc8a08ae08",
   "metadata": {},
   "outputs": [],
   "source": []
  },
  {
   "cell_type": "code",
   "execution_count": null,
   "id": "3fc6d383-6ba7-4c1e-83ab-4830ac2419d5",
   "metadata": {},
   "outputs": [],
   "source": []
  },
  {
   "cell_type": "code",
   "execution_count": null,
   "id": "be875419-62d3-44cb-b409-326da9be8599",
   "metadata": {},
   "outputs": [],
   "source": []
  },
  {
   "cell_type": "code",
   "execution_count": null,
   "id": "32617081-ac72-4fb0-a87b-e3ae05d5dd4c",
   "metadata": {},
   "outputs": [],
   "source": []
  },
  {
   "cell_type": "code",
   "execution_count": null,
   "id": "1dc573f0-b2be-4ccb-be21-713f5148f980",
   "metadata": {},
   "outputs": [],
   "source": []
  },
  {
   "cell_type": "code",
   "execution_count": null,
   "id": "b902ff24-2471-4c22-bcb4-c425939a4eb6",
   "metadata": {},
   "outputs": [],
   "source": []
  },
  {
   "cell_type": "code",
   "execution_count": null,
   "id": "bcebf8a2-c92e-44cd-bc34-87e75a89cd15",
   "metadata": {},
   "outputs": [],
   "source": []
  },
  {
   "cell_type": "code",
   "execution_count": null,
   "id": "750e0d92-7522-458c-bb11-757fa67314e4",
   "metadata": {},
   "outputs": [],
   "source": []
  },
  {
   "cell_type": "code",
   "execution_count": null,
   "id": "93b83f1b-c9af-43e6-bdab-f7c9b14ffdd6",
   "metadata": {},
   "outputs": [],
   "source": []
  },
  {
   "cell_type": "code",
   "execution_count": null,
   "id": "21050097-be1c-402f-888b-eeb57a31b765",
   "metadata": {},
   "outputs": [],
   "source": []
  },
  {
   "cell_type": "code",
   "execution_count": null,
   "id": "f8778c8f-e2b5-4c29-b8f4-38aa84966313",
   "metadata": {},
   "outputs": [],
   "source": []
  },
  {
   "cell_type": "code",
   "execution_count": null,
   "id": "cce58312-fb04-4b99-a984-e017fe3caa0d",
   "metadata": {},
   "outputs": [],
   "source": []
  },
  {
   "cell_type": "code",
   "execution_count": null,
   "id": "a781bed4-b53c-4101-a8cd-76d67dd9082f",
   "metadata": {},
   "outputs": [],
   "source": []
  },
  {
   "cell_type": "code",
   "execution_count": null,
   "id": "e9837815-a8da-43c6-b16a-ada4b0af1e11",
   "metadata": {},
   "outputs": [],
   "source": []
  },
  {
   "cell_type": "code",
   "execution_count": null,
   "id": "e50ed7c4-23ae-4f58-9f21-efabd0dce0e0",
   "metadata": {},
   "outputs": [],
   "source": []
  },
  {
   "cell_type": "code",
   "execution_count": null,
   "id": "32de4016-9068-4e6d-bc15-a89f13487ddd",
   "metadata": {},
   "outputs": [],
   "source": []
  },
  {
   "cell_type": "code",
   "execution_count": null,
   "id": "1b4f45c0-d52c-4309-b432-b282e91d821c",
   "metadata": {},
   "outputs": [],
   "source": []
  }
 ],
 "metadata": {
  "kernelspec": {
   "display_name": "Python 3 (ipykernel)",
   "language": "python",
   "name": "python3"
  },
  "language_info": {
   "codemirror_mode": {
    "name": "ipython",
    "version": 3
   },
   "file_extension": ".py",
   "mimetype": "text/x-python",
   "name": "python",
   "nbconvert_exporter": "python",
   "pygments_lexer": "ipython3",
   "version": "3.12.4"
  }
 },
 "nbformat": 4,
 "nbformat_minor": 5
}
